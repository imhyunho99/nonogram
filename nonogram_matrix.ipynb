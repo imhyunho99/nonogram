{
 "cells": [
  {
   "cell_type": "code",
   "execution_count": 1,
   "id": "7ab83ce0-0d26-4719-9427-5f4b0b03edc4",
   "metadata": {},
   "outputs": [],
   "source": [
    "#open Image and make matrix \n",
    "from PIL import Image\n",
    "import numpy as np"
   ]
  },
  {
   "cell_type": "code",
   "execution_count": 2,
   "id": "45ec6c01-67e9-4ea2-8eb9-78f577828b84",
   "metadata": {},
   "outputs": [],
   "source": [
    "im = Image.open('te.png', mode = 'r')"
   ]
  },
  {
   "cell_type": "code",
   "execution_count": 3,
   "id": "e472309c-24c3-42de-9983-856c3ef677bb",
   "metadata": {},
   "outputs": [],
   "source": [
    "pix = np.array(im)\n",
    "\n",
    "list_test = pix.tolist()\n",
    "\n",
    "pix_list = [[0 for j in range(100)] for i in range(100)]"
   ]
  },
  {
   "cell_type": "code",
   "execution_count": 24,
   "id": "fb58f0f5-5e60-4880-a38c-7aa70dfcb9b4",
   "metadata": {},
   "outputs": [],
   "source": [
    "for i in range(100):\n",
    "    for j in range(100):\n",
    "        list_test[i][j] = list_test[i][j][0:3]\n",
    "        pix_num = 0\n",
    "        for k in range(3):\n",
    "            pix_num += list_test[i][j][k]\n",
    "            if pix_num > 250 and pix_num <= 500: #Can change this param. \n",
    "                pix_list[i][j] = (1)\n"
   ]
  },
  {
   "cell_type": "code",
   "execution_count": 28,
   "id": "215171e3-ae8e-4392-83ef-d42a3c57eb10",
   "metadata": {},
   "outputs": [],
   "source": [
    "from matplotlib import pyplot as plt\n",
    "from matplotlib import colors as col\n",
    "colormap = col.ListedColormap([\"black\",\"white\"])#color param, Can use two or more color options "
   ]
  },
  {
   "cell_type": "code",
   "execution_count": 29,
   "id": "31b25b82-af56-4a86-9876-275d48e1e8ba",
   "metadata": {},
   "outputs": [
    {
     "data": {
      "text/plain": [
       "<Figure size 10000x10000 with 0 Axes>"
      ]
     },
     "execution_count": 29,
     "metadata": {},
     "output_type": "execute_result"
    },
    {
     "data": {
      "text/plain": [
       "<Figure size 10000x10000 with 0 Axes>"
      ]
     },
     "metadata": {},
     "output_type": "display_data"
    }
   ],
   "source": [
    "plt.figure(figsize = (100,100))"
   ]
  },
  {
   "cell_type": "code",
   "execution_count": null,
   "id": "c16fd5e6-9227-46c7-bb8e-de84e283f50b",
   "metadata": {},
   "outputs": [],
   "source": [
    "plt.imshow(pix_list, cmap = colormap)"
   ]
  }
 ],
 "metadata": {
  "kernelspec": {
   "display_name": "Python 3 (ipykernel)",
   "language": "python",
   "name": "python3"
  },
  "language_info": {
   "codemirror_mode": {
    "name": "ipython",
    "version": 3
   },
   "file_extension": ".py",
   "mimetype": "text/x-python",
   "name": "python",
   "nbconvert_exporter": "python",
   "pygments_lexer": "ipython3",
   "version": "3.9.13"
  }
 },
 "nbformat": 4,
 "nbformat_minor": 5
}
